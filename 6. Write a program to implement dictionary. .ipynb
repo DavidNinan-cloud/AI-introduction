{
 "cells": [
  {
   "cell_type": "code",
   "execution_count": 1,
   "metadata": {},
   "outputs": [],
   "source": [
    "\n",
    "# create product dictionary\n",
    "products=dict()\n",
    "def create_product_database():\n",
    "    \n",
    "    products['pen']={\"company\":\"reynolds\",\"price\":25}\n",
    "    products['pencil']={\"company\":\"natraj\",\"price\":15}\n",
    "    products['notebook']={\"company\":\"rotomac\",\"price\":80}\n",
    "    #products={\"pen\":{\"company\":\"reynolds\",\"price\":25},\n",
    "     #         \"pencil\":{\"company\":\"natraj\",\"price\":15},\n",
    "      #        \"notebook\":{\"company\":\"rotomac\",\"price\":80}\n",
    "       #  }\n",
    "    "
   ]
  },
  {
   "cell_type": "code",
   "execution_count": 2,
   "metadata": {},
   "outputs": [],
   "source": [
    "# print all products\n",
    "\n",
    "def show_products():\n",
    "    for key in products.keys():\n",
    "        print(key,products[key])\n",
    "    \n"
   ]
  },
  {
   "cell_type": "code",
   "execution_count": 3,
   "metadata": {},
   "outputs": [],
   "source": [
    "#Add product\n",
    "def add_Product():\n",
    "    \n",
    "    new_product_name=input()\n",
    "    new_product_company=input()\n",
    "    new_product_price=input()\n",
    "    \n",
    "    temp_dict={\"company\":new_product_company,\"price\":int(new_product_price)}\n",
    "    \n",
    "    products[new_product_name]=temp_dict"
   ]
  },
  {
   "cell_type": "code",
   "execution_count": 4,
   "metadata": {},
   "outputs": [],
   "source": [
    "#get price of product\n",
    "\n",
    "def get_Price():\n",
    "    product=input()\n",
    "    for i in products:\n",
    "        if i==product:\n",
    "            print(products[i][\"price\"])\n",
    "            break"
   ]
  },
  {
   "cell_type": "code",
   "execution_count": 5,
   "metadata": {},
   "outputs": [],
   "source": [
    "# delete product\n",
    "\n",
    "def delete_Product():\n",
    "    product=input()\n",
    "    for i in products:\n",
    "        if i==product:\n",
    "            products.pop(product)\n",
    "            break\n",
    "\n",
    "    print(\"After deleting product\",product)\n",
    "    print(products)"
   ]
  },
  {
   "cell_type": "code",
   "execution_count": 6,
   "metadata": {},
   "outputs": [],
   "source": [
    "# calculate total price of all the products\n",
    "\n",
    "def total_Price():\n",
    "    total_price=0\n",
    "    for i in products:\n",
    "        total_price=total_price+ products[i][\"price\"]\n",
    "    \n",
    "    print(\"Total Price=\",total_price)"
   ]
  },
  {
   "cell_type": "code",
   "execution_count": 7,
   "metadata": {},
   "outputs": [],
   "source": [
    "# modify price of pen set price to 50\n",
    "def modify_Price():\n",
    "    product=input()\n",
    "    for i in products:\n",
    "        if i==product:\n",
    "            new_price=input()\n",
    "            products[i]['price']= int(new_price)\n",
    "            break\n",
    "\n",
    "    print(\"after changing price \")\n",
    "    print(products)\n"
   ]
  },
  {
   "cell_type": "code",
   "execution_count": 8,
   "metadata": {},
   "outputs": [],
   "source": [
    "create_product_database()"
   ]
  },
  {
   "cell_type": "code",
   "execution_count": 9,
   "metadata": {},
   "outputs": [
    {
     "name": "stdout",
     "output_type": "stream",
     "text": [
      "pen {'company': 'reynolds', 'price': 25}\n",
      "pencil {'company': 'natraj', 'price': 15}\n",
      "notebook {'company': 'rotomac', 'price': 80}\n"
     ]
    }
   ],
   "source": [
    "show_products()"
   ]
  },
  {
   "cell_type": "code",
   "execution_count": 10,
   "metadata": {},
   "outputs": [
    {
     "name": "stdout",
     "output_type": "stream",
     "text": [
      "25\n"
     ]
    }
   ],
   "source": [
    "get_Price()"
   ]
  },
  {
   "cell_type": "code",
   "execution_count": null,
   "metadata": {},
   "outputs": [],
   "source": [
    "get_Price()"
   ]
  },
  {
   "cell_type": "code",
   "execution_count": null,
   "metadata": {},
   "outputs": [],
   "source": [
    "add_Product()"
   ]
  },
  {
   "cell_type": "code",
   "execution_count": null,
   "metadata": {
    "scrolled": true
   },
   "outputs": [],
   "source": [
    "show_products()"
   ]
  },
  {
   "cell_type": "code",
   "execution_count": null,
   "metadata": {},
   "outputs": [],
   "source": [
    "modify_Price()"
   ]
  },
  {
   "cell_type": "code",
   "execution_count": null,
   "metadata": {},
   "outputs": [],
   "source": [
    "delete_Product()"
   ]
  },
  {
   "cell_type": "code",
   "execution_count": null,
   "metadata": {},
   "outputs": [],
   "source": [
    "total_Price()"
   ]
  },
  {
   "cell_type": "code",
   "execution_count": null,
   "metadata": {},
   "outputs": [],
   "source": []
  },
  {
   "cell_type": "code",
   "execution_count": null,
   "metadata": {},
   "outputs": [],
   "source": []
  }
 ],
 "metadata": {
  "kernelspec": {
   "display_name": "Python 3",
   "language": "python",
   "name": "python3"
  },
  "language_info": {
   "codemirror_mode": {
    "name": "ipython",
    "version": 3
   },
   "file_extension": ".py",
   "mimetype": "text/x-python",
   "name": "python",
   "nbconvert_exporter": "python",
   "pygments_lexer": "ipython3",
   "version": "3.7.8"
  }
 },
 "nbformat": 4,
 "nbformat_minor": 2
}
