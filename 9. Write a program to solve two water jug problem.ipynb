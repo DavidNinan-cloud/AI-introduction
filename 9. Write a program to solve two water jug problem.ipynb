{
 "cells": [
  {
   "cell_type": "code",
   "execution_count": 1,
   "metadata": {},
   "outputs": [
    {
     "name": "stdout",
     "output_type": "stream",
     "text": [
      "JUG1\tJUG2\n",
      "5\t3\n",
      "1\t7\n",
      "0\t1\n",
      "5\t1\n",
      "0\t6\n",
      "5\t6\n",
      "4\t7\n",
      "0\t4\n"
     ]
    }
   ],
   "source": [
    "# Water jug problem\n",
    "\n",
    "def pour(jug1, jug2):\n",
    "    max1, max2, fill = 5, 7, 4  #Change maximum capacity and final capacity\n",
    "    print(\"%d\\t%d\" % (jug1, jug2))\n",
    "    if jug2 is fill:\n",
    "        return\n",
    "    elif jug2 is max2:\n",
    "        pour(0, jug1)\n",
    "    elif jug1 != 0 and jug2 is 0:\n",
    "        pour(0, jug1)\n",
    "    elif jug1 is fill:\n",
    "        pour(jug1, 0)\n",
    "    elif jug1 < max1:\n",
    "        pour(max1, jug2)\n",
    "    elif jug1 < (max2-jug2):\n",
    "        pour(0, (jug1+jug2))\n",
    "    else:\n",
    "        pour(jug1-(max2-jug2), (max2-jug2)+jug2)\n",
    " \n",
    "print(\"JUG1\\tJUG2\")\n",
    "pour(5, 3)"
   ]
  },
  {
   "cell_type": "code",
   "execution_count": null,
   "metadata": {},
   "outputs": [],
   "source": []
  }
 ],
 "metadata": {
  "kernelspec": {
   "display_name": "Python 3",
   "language": "python",
   "name": "python3"
  },
  "language_info": {
   "codemirror_mode": {
    "name": "ipython",
    "version": 3
   },
   "file_extension": ".py",
   "mimetype": "text/x-python",
   "name": "python",
   "nbconvert_exporter": "python",
   "pygments_lexer": "ipython3",
   "version": "3.7.8"
  }
 },
 "nbformat": 4,
 "nbformat_minor": 4
}
