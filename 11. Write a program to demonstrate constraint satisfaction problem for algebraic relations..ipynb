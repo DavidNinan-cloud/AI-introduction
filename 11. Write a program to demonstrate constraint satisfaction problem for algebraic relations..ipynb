{
 "cells": [
  {
   "cell_type": "code",
   "execution_count": null,
   "metadata": {
    "scrolled": true
   },
   "outputs": [],
   "source": [
    "#Write a program to demonstrate constraint satisfaction problem for algebraic relations."
   ]
  },
  {
   "cell_type": "code",
   "execution_count": null,
   "metadata": {
    "scrolled": true
   },
   "outputs": [],
   "source": [
    "# Constraint Satisfaction Problem CSP "
   ]
  },
  {
   "cell_type": "code",
   "execution_count": null,
   "metadata": {
    "scrolled": false
   },
   "outputs": [],
   "source": [
    "#Solve the a + b = 5, a ∗ b = 6 algebraic relation."
   ]
  },
  {
   "cell_type": "code",
   "execution_count": 2,
   "metadata": {},
   "outputs": [
    {
     "name": "stdout",
     "output_type": "stream",
     "text": [
      "[{'a': 3, 'b': 2}, {'a': 2, 'b': 3}]\n"
     ]
    }
   ],
   "source": [
    "\n",
    "\n",
    "#Solve the a + b = 5, a ∗ b = 6 algebraic relation.\n",
    "from constraint import *\n",
    "problem = Problem()\n",
    "problem.addVariable('a', range(5))\n",
    "problem.addVariable('b', range(5))\n",
    "problem.addConstraint(lambda a, b: a + b == 5)\n",
    "problem.addConstraint(lambda a, b: a * b == 6)\n",
    "solutions = problem.getSolutions()\n",
    "print(solutions)\n",
    "#[{'a': 3, 'b': 2}, {'a': 2, 'b': 3}]"
   ]
  },
  {
   "cell_type": "code",
   "execution_count": null,
   "metadata": {
    "scrolled": true
   },
   "outputs": [],
   "source": []
  },
  {
   "cell_type": "code",
   "execution_count": null,
   "metadata": {},
   "outputs": [],
   "source": []
  }
 ],
 "metadata": {
  "kernelspec": {
   "display_name": "Python 3",
   "language": "python",
   "name": "python3"
  },
  "language_info": {
   "codemirror_mode": {
    "name": "ipython",
    "version": 3
   },
   "file_extension": ".py",
   "mimetype": "text/x-python",
   "name": "python",
   "nbconvert_exporter": "python",
   "pygments_lexer": "ipython3",
   "version": "3.7.8"
  }
 },
 "nbformat": 4,
 "nbformat_minor": 2
}
