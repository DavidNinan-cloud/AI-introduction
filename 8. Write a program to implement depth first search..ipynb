{
 "cells": [
  {
   "cell_type": "code",
   "execution_count": 4,
   "metadata": {},
   "outputs": [
    {
     "name": "stdout",
     "output_type": "stream",
     "text": [
      "Found ['A', 'E', 'D']\n"
     ]
    },
    {
     "ename": "SystemExit",
     "evalue": "0",
     "output_type": "error",
     "traceback": [
      "An exception has occurred, use %tb to see the full traceback.\n",
      "\u001b[0;31mSystemExit\u001b[0m\u001b[0;31m:\u001b[0m 0\n"
     ]
    },
    {
     "name": "stderr",
     "output_type": "stream",
     "text": [
      "/home/jovyan/IPython/core/interactiveshell.py:2969: UserWarning: To exit: use 'exit', 'quit', or Ctrl-D.\n",
      "  warn(\"To exit: use 'exit', 'quit', or Ctrl-D.\", stacklevel=1)\n"
     ]
    }
   ],
   "source": [
    "\n",
    "#DFS\n",
    "\n",
    "import sys\n",
    "tree = {'A': ['B', 'C', 'E'],\n",
    "         'B': ['A','D', 'E'],\n",
    "         'C': ['A', 'F', 'G'],\n",
    "         'D': ['B'],\n",
    "         'E': ['A', 'B','D'],\n",
    "         'F': ['C'],\n",
    "         'G': ['C']}\n",
    "         \n",
    "         \n",
    "def dfs(tree, root):\n",
    "    \n",
    "    visited = []\n",
    "    \n",
    "    activelist = [root]\n",
    " \n",
    "    dest= 'B'\n",
    "    while activelist:\n",
    "        \n",
    "        node = activelist.pop()\n",
    "        \n",
    "        if node==dest:\n",
    "            print('Found',visited)\n",
    "            sys.exit(0)\n",
    "            \n",
    "        if node not in visited:\n",
    "            \n",
    "            visited.append(node)\n",
    "            neighbours = tree[node]\n",
    " \n",
    "            \n",
    "            for neighbour in neighbours:\n",
    "                activelist.append(neighbour)\n",
    "    #return visited\n",
    "    print(\"not found\")\n",
    "dfs(tree,'A')"
   ]
  },
  {
   "cell_type": "code",
   "execution_count": null,
   "metadata": {},
   "outputs": [],
   "source": []
  }
 ],
 "metadata": {
  "kernelspec": {
   "display_name": "Python 3",
   "language": "python",
   "name": "python3"
  },
  "language_info": {
   "codemirror_mode": {
    "name": "ipython",
    "version": 3
   },
   "file_extension": ".py",
   "mimetype": "text/x-python",
   "name": "python",
   "nbconvert_exporter": "python",
   "pygments_lexer": "ipython3",
   "version": "3.7.8"
  }
 },
 "nbformat": 4,
 "nbformat_minor": 4
}
